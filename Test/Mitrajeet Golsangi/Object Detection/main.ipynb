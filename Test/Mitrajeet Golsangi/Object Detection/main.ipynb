{
 "cells": [
  {
   "cell_type": "markdown",
   "metadata": {},
   "source": []
  },
  {
   "cell_type": "markdown",
   "metadata": {},
   "source": [
    "# [Learning OpenCV](https://www.youtube.com/playlist?list=PLS1QulWo1RIa7D1O6skqDQ-JZ1GGHKK-K)\n",
    "\n",
    "# Contents\n",
    "\n",
    "- [1 Custom Function](#1-custom-functions)\n",
    "  - [1.1 Display Image](#11-display-image)\n",
    "  - [1.2 Live Capture Video](#12-live-capture-video)\n",
    "- [2 Read Write and Show Images](#2-read-write-and-show-images)\n",
    "   - [2.1 Reading Images](#21-reading-images)\n",
    "   - [2.2 Displaying Images](#22-displaying-images)\n",
    "   - [2.3 Writing Images](#23-writing-images)\n",
    "- [3 Read Display and Save Videos](#3-read-display-and-save-videos)\n",
    "  - [3.1 Live Camera Feed Capture](#31-live-camera-feed-capture)\n",
    "  - [3.2  Outputting the Video](#32-outputting-the-video)\n",
    "- [4 Drawing on Images](#4-drawing-on-images)\n",
    "  - [4.1 Drawing a Line](#41-drawing-a-line)\n",
    "  - [4.2 Drawing a Rectangle](#42-drawing-a-rectangle)\n",
    "  - [4.3 Drawing a Circle](#43-drawing-a-circle)\n",
    "  - [4.4 Writing Text on Image](#44-writing-text-on-the-image)\n",
    "- [5 Creating Images using NumPy](#5-creating-images-using-numpy)\n",
    "- [6 Writing on Videos](#6-drawing-on-videos)\n",
    "  - [6.1 Setting up camera resolution](#61-setting-up-camera-resolution)\n",
    "  - [6.2 Display Date and Time on Video](#62-display-date-and-time-on-video)\n",
    "- [7 Handling Mouse Events](#7-handling-mouse-events)\n",
    "  - [7.1 Display Co-ordinates on Mouse Click](#71-display-co-ordinates-on-mouse-click)\n",
    "  - [7.2 Draw lines from points](#72-draw-lines-from-points)\n",
    "- [8 Arithmetic Operations on Images](#8-arithmetic-operation-on-images)\n",
    "  - [8.1 Basics](#81-basics)\n",
    "  - [8.2 Merge and Split](#82-merge-and-split)"
   ]
  },
  {
   "cell_type": "code",
   "execution_count": 1,
   "metadata": {},
   "outputs": [],
   "source": [
    "import cv2\n",
    "import numpy as np"
   ]
  },
  {
   "cell_type": "markdown",
   "metadata": {},
   "source": [
    "## 1. Custom Functions\n",
    "---"
   ]
  },
  {
   "cell_type": "markdown",
   "metadata": {},
   "source": [
    "### 1.1 Display Image"
   ]
  },
  {
   "cell_type": "code",
   "execution_count": 29,
   "metadata": {},
   "outputs": [],
   "source": [
    "def disp(l):\n",
    "    \"\"\"Function to display multiple images\n",
    "    Args:\n",
    "        l : list of ordered tuples where first element is window name and second is\"\"\"\n",
    "    for i in l:\n",
    "        cv2.imshow(i[0], i[1])\n",
    "    cv2.waitKey(0) & 0xFF\n",
    "    cv2.destroyAllWindows()"
   ]
  },
  {
   "cell_type": "markdown",
   "metadata": {},
   "source": [
    "### 1.2 Live Capture Video"
   ]
  },
  {
   "cell_type": "code",
   "execution_count": 26,
   "metadata": {},
   "outputs": [],
   "source": [
    "\n",
    "def capture_video(cap, save=False):\n",
    "        fourcc = cv2.VideoWriter_fourcc('X', 'V', 'I', 'D')\n",
    "        out = cv2.VideoWriter('./Output/video.mp4', fourcc, 30.0, (640, 480))\n",
    "        while cap.isOpened():\n",
    "            ret, frame = cap.read()\n",
    "            if save:\n",
    "                # Writing the video\n",
    "                out.write(frame)\n",
    "            cv2.imshow(\"Video Capture\", frame)\n",
    "            \n",
    "            if cv2.waitKey(1) & 0xFF == ord('q'):\n",
    "                break\n",
    "\n",
    "        cap.release()\n",
    "        cv2.destroyAllWindows()"
   ]
  },
  {
   "cell_type": "markdown",
   "metadata": {},
   "source": [
    "## 2. Read Write and Show Images\n",
    "---"
   ]
  },
  {
   "cell_type": "markdown",
   "metadata": {},
   "source": [
    "### 2.1 Reading images"
   ]
  },
  {
   "cell_type": "code",
   "execution_count": 9,
   "metadata": {},
   "outputs": [],
   "source": [
    "img = cv2.imread('./Data/lena.jpg', -1)"
   ]
  },
  {
   "cell_type": "markdown",
   "metadata": {},
   "source": [
    "### 2.2 Displaying Images"
   ]
  },
  {
   "cell_type": "code",
   "execution_count": 10,
   "metadata": {},
   "outputs": [],
   "source": [
    "# Display Image\n",
    "cv2.imshow('Lena', img)\n",
    "cv2.waitKey(0) & 0xFF\n",
    "cv2.destroyAllWindows()"
   ]
  },
  {
   "cell_type": "markdown",
   "metadata": {},
   "source": [
    "### 2.3 Writing images"
   ]
  },
  {
   "cell_type": "code",
   "execution_count": 11,
   "metadata": {},
   "outputs": [
    {
     "data": {
      "text/plain": [
       "True"
      ]
     },
     "execution_count": 11,
     "metadata": {},
     "output_type": "execute_result"
    }
   ],
   "source": [
    "# Write image\n",
    "cv2.imwrite('./Output/Lena.png', img)"
   ]
  },
  {
   "cell_type": "markdown",
   "metadata": {},
   "source": [
    "## 3. Read Display and Save Videos\n",
    "---"
   ]
  },
  {
   "cell_type": "markdown",
   "metadata": {},
   "source": [
    "### 3.1 Live Camera Feed Capture"
   ]
  },
  {
   "cell_type": "code",
   "execution_count": 12,
   "metadata": {},
   "outputs": [],
   "source": [
    "cap = cv2.VideoCapture(0) # Arguments can be the file name for storing the image or the device index\n",
    "\n",
    "while cap.isOpened():\n",
    "    ret, frame = cap.read()\n",
    "    \n",
    "    cv2.imshow(\"Video Capture\", frame)\n",
    "    \n",
    "    if cv2.waitKey(1) & 0xFF == ord('q'):\n",
    "        break\n",
    "\n",
    "cap.release()\n",
    "cv2.destroyAllWindows()"
   ]
  },
  {
   "cell_type": "markdown",
   "metadata": {},
   "source": [
    "### 3.2  Outputting the Video\n",
    "\n",
    "```\n",
    "VideoWriter(filename, fourcc_code, fps, (size_x, size_y))\n",
    "```"
   ]
  },
  {
   "cell_type": "code",
   "execution_count": 13,
   "metadata": {},
   "outputs": [],
   "source": [
    "cap = cv2.VideoCapture(0) # Arguments can be the file name for storing the image or the device index\n",
    "\n",
    "# fourcc = cv2.VideoWriter_fourcc(*'XVID') # same as below\n",
    "fourcc = cv2.VideoWriter_fourcc('X', 'V', 'I', 'D')\n",
    "\n",
    "out = cv2.VideoWriter('./Output/video.mp4', fourcc, 30.0, (640, 480))\n",
    "\n",
    "while cap.isOpened():\n",
    "    ret, frame = cap.read()\n",
    "    if ret:\n",
    "        \n",
    "        # Writing the video\n",
    "        out.write(frame)\n",
    "        \n",
    "        cv2.imshow(\"Video Capture\", frame)\n",
    "        \n",
    "        if cv2.waitKey(1) & 0xFF == ord('q'):\n",
    "            break\n",
    "    else:\n",
    "        break\n",
    "cap.release()\n",
    "out.release()\n",
    "cv2.destroyAllWindows()"
   ]
  },
  {
   "cell_type": "markdown",
   "metadata": {},
   "source": [
    "## 4. Drawing on Images\n",
    "---"
   ]
  },
  {
   "cell_type": "markdown",
   "metadata": {},
   "source": [
    "### 4.1 Drawing a Line\n",
    "\n",
    "```\n",
    "line(image_var, start_coord, end_coord, color_bgr, line_thickness)\n",
    "```"
   ]
  },
  {
   "cell_type": "code",
   "execution_count": 14,
   "metadata": {},
   "outputs": [],
   "source": [
    "img = cv2.imread('./Data/lena.jpg', 1)\n",
    "\n",
    "img = cv2.line(img, (100, 50), (300, 50), (0, 255, 0), 3)\n",
    "img = cv2.arrowedLine(img, (0, 0), (255, 255), (255, 0, 0), 3)\n",
    "\n",
    "disp('Lena', img)"
   ]
  },
  {
   "cell_type": "markdown",
   "metadata": {},
   "source": [
    "### 4.2 Drawing a Rectangle"
   ]
  },
  {
   "cell_type": "code",
   "execution_count": 15,
   "metadata": {},
   "outputs": [],
   "source": [
    "img = cv2.imread('./Data/lena.jpg', 1)\n",
    "\n",
    "# if thickness is given as -1 it will fill the rectangle\n",
    "img = cv2.rectangle(img, (100, 40), (430, 400), (0, 0, 255), 2)\n",
    "\n",
    "disp(\"Rectangle\", img)"
   ]
  },
  {
   "cell_type": "markdown",
   "metadata": {},
   "source": [
    "### 4.3 Drawing a Circle"
   ]
  },
  {
   "cell_type": "code",
   "execution_count": 16,
   "metadata": {},
   "outputs": [],
   "source": [
    "img = cv2.circle(img, (430, 400), 100, (0, 255, 0), 2)\n",
    "\n",
    "disp(\"Rectangle\", img)"
   ]
  },
  {
   "cell_type": "markdown",
   "metadata": {},
   "source": [
    "### 4.4 Writing Text on the Image"
   ]
  },
  {
   "cell_type": "code",
   "execution_count": 17,
   "metadata": {},
   "outputs": [],
   "source": [
    "img = cv2.putText(img, \"Open CV\", (230, 40), cv2.FONT_HERSHEY_DUPLEX, 1, (255, 0, 0))\n",
    "\n",
    "disp(\"Text\", img)"
   ]
  },
  {
   "cell_type": "markdown",
   "metadata": {},
   "source": [
    "## 5. Creating Images using NumPy\n",
    "---"
   ]
  },
  {
   "cell_type": "code",
   "execution_count": 18,
   "metadata": {},
   "outputs": [
    {
     "ename": "error",
     "evalue": "OpenCV(4.5.5) d:\\a\\opencv-python\\opencv-python\\opencv\\modules\\imgproc\\src\\color.simd_helpers.hpp:92: error: (-2:Unspecified error) in function '__cdecl cv::impl::`anonymous-namespace'::CvtHelper<struct cv::impl::`anonymous namespace'::Set<3,4,-1>,struct cv::impl::A0xa96199bf::Set<3,4,-1>,struct cv::impl::A0xa96199bf::Set<0,2,5>,2>::CvtHelper(const class cv::_InputArray &,const class cv::_OutputArray &,int)'\n> Invalid number of channels in input image:\n>     'VScn::contains(scn)'\n> where\n>     'scn' is 2\n",
     "output_type": "error",
     "traceback": [
      "\u001b[1;31m---------------------------------------------------------------------------\u001b[0m",
      "\u001b[1;31merror\u001b[0m                                     Traceback (most recent call last)",
      "\u001b[1;32md:\\Flutter Apps\\Plantation App\\Object Detection\\main.ipynb Cell 30'\u001b[0m in \u001b[0;36m<module>\u001b[1;34m\u001b[0m\n\u001b[0;32m      <a href='vscode-notebook-cell:/d%3A/Flutter%20Apps/Plantation%20App/Object%20Detection/main.ipynb#ch0000029?line=0'>1</a>\u001b[0m img \u001b[39m=\u001b[39m np\u001b[39m.\u001b[39mzeros([\u001b[39m512\u001b[39m, \u001b[39m512\u001b[39m, \u001b[39m2\u001b[39m], np\u001b[39m.\u001b[39muint8)\n\u001b[1;32m----> <a href='vscode-notebook-cell:/d%3A/Flutter%20Apps/Plantation%20App/Object%20Detection/main.ipynb#ch0000029?line=2'>3</a>\u001b[0m disp(\u001b[39m\"\u001b[39;49m\u001b[39mNumpy Image\u001b[39;49m\u001b[39m\"\u001b[39;49m, img)\n",
      "\u001b[1;32md:\\Flutter Apps\\Plantation App\\Object Detection\\main.ipynb Cell 5'\u001b[0m in \u001b[0;36mdisp\u001b[1;34m(name, image)\u001b[0m\n\u001b[0;32m      <a href='vscode-notebook-cell:/d%3A/Flutter%20Apps/Plantation%20App/Object%20Detection/main.ipynb#ch0000004?line=0'>1</a>\u001b[0m \u001b[39mdef\u001b[39;00m \u001b[39mdisp\u001b[39m(name, image):\n\u001b[1;32m----> <a href='vscode-notebook-cell:/d%3A/Flutter%20Apps/Plantation%20App/Object%20Detection/main.ipynb#ch0000004?line=1'>2</a>\u001b[0m     cv2\u001b[39m.\u001b[39;49mimshow(name, image)\n\u001b[0;32m      <a href='vscode-notebook-cell:/d%3A/Flutter%20Apps/Plantation%20App/Object%20Detection/main.ipynb#ch0000004?line=2'>3</a>\u001b[0m     cv2\u001b[39m.\u001b[39mwaitKey(\u001b[39m0\u001b[39m) \u001b[39m&\u001b[39m \u001b[39m0xFF\u001b[39m\n\u001b[0;32m      <a href='vscode-notebook-cell:/d%3A/Flutter%20Apps/Plantation%20App/Object%20Detection/main.ipynb#ch0000004?line=3'>4</a>\u001b[0m     cv2\u001b[39m.\u001b[39mdestroyAllWindows()\n",
      "\u001b[1;31merror\u001b[0m: OpenCV(4.5.5) d:\\a\\opencv-python\\opencv-python\\opencv\\modules\\imgproc\\src\\color.simd_helpers.hpp:92: error: (-2:Unspecified error) in function '__cdecl cv::impl::`anonymous-namespace'::CvtHelper<struct cv::impl::`anonymous namespace'::Set<3,4,-1>,struct cv::impl::A0xa96199bf::Set<3,4,-1>,struct cv::impl::A0xa96199bf::Set<0,2,5>,2>::CvtHelper(const class cv::_InputArray &,const class cv::_OutputArray &,int)'\n> Invalid number of channels in input image:\n>     'VScn::contains(scn)'\n> where\n>     'scn' is 2\n"
     ]
    }
   ],
   "source": [
    "img = np.zeros([512, 512, 2], np.uint8)\n",
    "\n",
    "disp(\"Numpy Image\", img)"
   ]
  },
  {
   "cell_type": "markdown",
   "metadata": {},
   "source": [
    "## 6. Drawing on Videos\n",
    "---"
   ]
  },
  {
   "cell_type": "markdown",
   "metadata": {},
   "source": [
    "### 6.1 Setting up camera resolution"
   ]
  },
  {
   "cell_type": "code",
   "execution_count": 1,
   "metadata": {},
   "outputs": [
    {
     "ename": "NameError",
     "evalue": "name 'cv2' is not defined",
     "output_type": "error",
     "traceback": [
      "\u001b[1;31m---------------------------------------------------------------------------\u001b[0m",
      "\u001b[1;31mNameError\u001b[0m                                 Traceback (most recent call last)",
      "\u001b[1;32md:\\Flutter Apps\\Plantation App\\Object Detection\\main.ipynb Cell 33'\u001b[0m in \u001b[0;36m<module>\u001b[1;34m\u001b[0m\n\u001b[1;32m----> <a href='vscode-notebook-cell:/d%3A/Flutter%20Apps/Plantation%20App/Object%20Detection/main.ipynb#ch0000032?line=0'>1</a>\u001b[0m cap \u001b[39m=\u001b[39m cv2\u001b[39m.\u001b[39mVideoCapture(\u001b[39m0\u001b[39m)\n\u001b[0;32m      <a href='vscode-notebook-cell:/d%3A/Flutter%20Apps/Plantation%20App/Object%20Detection/main.ipynb#ch0000032?line=2'>3</a>\u001b[0m cap\u001b[39m.\u001b[39mset(\u001b[39m3\u001b[39m, \u001b[39m1280\u001b[39m) \u001b[39m# 3 means width\u001b[39;00m\n\u001b[0;32m      <a href='vscode-notebook-cell:/d%3A/Flutter%20Apps/Plantation%20App/Object%20Detection/main.ipynb#ch0000032?line=3'>4</a>\u001b[0m cap\u001b[39m.\u001b[39mset(\u001b[39m4\u001b[39m, \u001b[39m720\u001b[39m) \u001b[39m# 4 means height\u001b[39;00m\n",
      "\u001b[1;31mNameError\u001b[0m: name 'cv2' is not defined"
     ]
    }
   ],
   "source": [
    "cap = cv2.VideoCapture(0)\n",
    "\n",
    "cap.set(3, 1280) # 3 means width\n",
    "cap.set(4, 720) # 4 means height\n",
    "\n",
    "print(\"Width :\", cap.get(3), \"Height :\", cap.get(4))\n",
    "\n",
    "while cap.isOpened():\n",
    "    ret, frame = cap.read()\n",
    "    \n",
    "    frame = cv2.rectangle(frame, (100, 100), (450, 450), (0, 255, 0), 3)\n",
    "    cv2.imshow(\"Video Capture\", frame)\n",
    "    \n",
    "    if cv2.waitKey(1) & 0xFF == ord('q'):\n",
    "        break\n",
    "\n",
    "cap.release()\n",
    "cv2.destroyAllWindows()\n"
   ]
  },
  {
   "cell_type": "markdown",
   "metadata": {},
   "source": [
    "### 6.2 Display Date and Time on Video"
   ]
  },
  {
   "cell_type": "code",
   "execution_count": null,
   "metadata": {},
   "outputs": [],
   "source": [
    "import datetime\n",
    "\n",
    "cap = cv2.VideoCapture(0)\n",
    "\n",
    "\n",
    "while cap.isOpened():\n",
    "    ret, frame = cap.read()\n",
    "\n",
    "    date_str = str(datetime.datetime.now())\n",
    "    \n",
    "    frame = cv2.putText(frame, f'Width:{cap.get(3)}, Height:{cap.get(4)}', (\n",
    "        10, 50), cv2.FONT_HERSHEY_SIMPLEX, 1, (0, 255, 255), 2, cv2.LINE_AA)\n",
    "    \n",
    "    frame = cv2.putText(frame, date_str, (400, 460), cv2.FONT_HERSHEY_SIMPLEX, 0.5, (255, 0, 255), 1, cv2.LINE_AA)\n",
    "\n",
    "    cv2.imshow(\"Video Capture\", frame)\n",
    "\n",
    "    if cv2.waitKey(1) & 0xFF == ord('q'):\n",
    "        break\n",
    "\n",
    "cap.release()\n",
    "cv2.destroyAllWindows()"
   ]
  },
  {
   "cell_type": "markdown",
   "metadata": {},
   "source": [
    "## 7. Handling Mouse Events\n",
    "---"
   ]
  },
  {
   "cell_type": "markdown",
   "metadata": {},
   "source": [
    "### 7.1 Display Co-ordinates on Mouse Click"
   ]
  },
  {
   "cell_type": "code",
   "execution_count": 15,
   "metadata": {},
   "outputs": [],
   "source": [
    "events = [i for i in dir(cv2) if 'EVENT' in i]\n",
    "# print(events)\n",
    "\n",
    "def click_event(e, x, y, flags, param):\n",
    "    if e == cv2.EVENT_LBUTTONDOWN:\n",
    "        cord_str = f'({x},{y})'\n",
    "        cv2.putText(img, cord_str, (x, y), cv2.FONT_HERSHEY_SCRIPT_SIMPLEX, 0.5, (255, 255, 0), 1)\n",
    "        cv2.imshow(\"Mouse Event\", img)\n",
    "    \n",
    "    if e == cv2.EVENT_RBUTTONDOWN:\n",
    "        b = img[y, x, 0]\n",
    "        g = img[y, x, 1]\n",
    "        r = img[y, x, 2]\n",
    "    \n",
    "        bgr_str = f'({b},{g}, {r})'\n",
    "        cv2.putText(img, bgr_str, (x, y), cv2.FONT_HERSHEY_SCRIPT_SIMPLEX, 0.5, (0, 0, 0), 1)\n",
    "        cv2.imshow(\"Mouse Event\", img)\n",
    "    \n",
    "\n",
    "img = cv2.imread('./Data/lena.jpg')\n",
    "cv2.imshow(\"Mouse Event\", img)\n",
    "\n",
    "cv2.setMouseCallback(\"Mouse Event\", click_event)\n",
    "\n",
    "cv2.waitKey(0) & 0xFF\n",
    "cv2.destroyAllWindows()"
   ]
  },
  {
   "cell_type": "markdown",
   "metadata": {},
   "source": [
    "### 7.2 Draw lines from points"
   ]
  },
  {
   "cell_type": "code",
   "execution_count": 18,
   "metadata": {},
   "outputs": [],
   "source": [
    "def click_event(e, x, y, flags, param):\n",
    "    if e == cv2.EVENT_LBUTTONDOWN:\n",
    "        cord_str = f'({x},{y})'\n",
    "        cv2.circle(img, (x, y), 2, (0, 0, 255))\n",
    "        points.append((x, y))\n",
    "        \n",
    "        if len(points) >= 2:\n",
    "            color = (0, 255, 0)\n",
    "            cv2.line(img, points[-1], points[-2], color, 1)\n",
    "        \n",
    "        cv2.imshow(\"Mouse Event\", img)\n",
    "\n",
    "points = [] \n",
    "# img = cv2.imread('./Data/lena.jpg')\n",
    "img = np.zeros([512, 512, 3], np.uint8)\n",
    "cv2.imshow(\"Mouse Event\", img)\n",
    "\n",
    "cv2.setMouseCallback(\"Mouse Event\", click_event)\n",
    "\n",
    "cv2.waitKey(0) & 0xFF\n",
    "cv2.destroyAllWindows()"
   ]
  },
  {
   "cell_type": "markdown",
   "metadata": {},
   "source": [
    "## 8. Arithmetic Operation on Images\n",
    "---"
   ]
  },
  {
   "cell_type": "markdown",
   "metadata": {},
   "source": [
    "### 8.1 Basics"
   ]
  },
  {
   "cell_type": "code",
   "execution_count": 23,
   "metadata": {},
   "outputs": [
    {
     "name": "stdout",
     "output_type": "stream",
     "text": [
      "Shape\t\t:  (342, 548, 3)\n",
      "Size\t\t\t:  562248\n",
      "Data Type\t: uint8\n"
     ]
    }
   ],
   "source": [
    "img = cv2.imread('./Data/messi5.jpg')\n",
    "\n",
    "# Get the Shape of the dataframe i.e. nrow, ncol and channels\n",
    "print(\"Shape\\t\\t: \", img.shape)\n",
    "\n",
    "# Get the total number of pixels in the image\n",
    "print(\"Size\\t\\t\\t: \", img.size)\n",
    "\n",
    "# Get the Data Type of the image\n",
    "print(\"Data Type\\t:\", img.dtype)"
   ]
  },
  {
   "cell_type": "markdown",
   "metadata": {},
   "source": [
    "### 8.2 Merge and Split"
   ]
  },
  {
   "cell_type": "code",
   "execution_count": 28,
   "metadata": {},
   "outputs": [],
   "source": [
    "b, g, r = cv2.split(img)\n",
    "disp(\"Blue\", b)\n",
    "img = cv2.merge((b, g, r))\n",
    "disp(\"image\", img)"
   ]
  }
 ],
 "metadata": {
  "interpreter": {
   "hash": "506add70295a8c2d73a818266645a591dbc73e8cfad380ac0bb23ed42ec8f5ab"
  },
  "kernelspec": {
   "display_name": "Python 3 (ipykernel)",
   "language": "python",
   "name": "python3"
  },
  "language_info": {
   "codemirror_mode": {
    "name": "ipython",
    "version": 3
   },
   "file_extension": ".py",
   "mimetype": "text/x-python",
   "name": "python",
   "nbconvert_exporter": "python",
   "pygments_lexer": "ipython3",
   "version": "3.9.5"
  }
 },
 "nbformat": 4,
 "nbformat_minor": 2
}
